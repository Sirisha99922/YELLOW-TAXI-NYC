{
  "cells": [
    {
      "cell_type": "markdown",
      "metadata": {
        "id": "view-in-github",
        "colab_type": "text"
      },
      "source": [
        "<a href=\"https://colab.research.google.com/github/Sirisha99922/YELLOW-TAXI-NYC/blob/main/Yellow_Taxi_Tip.ipynb\" target=\"_parent\"><img src=\"https://colab.research.google.com/assets/colab-badge.svg\" alt=\"Open In Colab\"/></a>"
      ]
    },
    {
      "cell_type": "code",
      "execution_count": 1,
      "metadata": {
        "id": "2OaEc6W6JjwT"
      },
      "outputs": [],
      "source": [
        "import pandas as pd\n",
        "import numpy as np\n",
        "import matplotlib.pyplot as plt\n",
        "%matplotlib inline"
      ]
    },
    {
      "cell_type": "code",
      "execution_count": 6,
      "metadata": {
        "id": "T87QtF2RJwj4"
      },
      "outputs": [],
      "source": [
        "yellowtaxi=pd.read_csv(\"/content/drive/MyDrive/YELLOW  TAXI TIP/yellow_tripdata_2021-07.csv\",low_memory=False)"
      ]
    },
    {
      "cell_type": "code",
      "source": [
        "from google.colab import drive\n",
        "drive.mount('/content/drive')"
      ],
      "metadata": {
        "colab": {
          "base_uri": "https://localhost:8080/"
        },
        "id": "TwG3bmdabHcI",
        "outputId": "494905dc-5b3c-4f8f-c8a5-31296319acf4"
      },
      "execution_count": 3,
      "outputs": [
        {
          "output_type": "stream",
          "name": "stdout",
          "text": [
            "Mounted at /content/drive\n"
          ]
        }
      ]
    },
    {
      "cell_type": "code",
      "execution_count": null,
      "metadata": {
        "colab": {
          "base_uri": "https://localhost:8080/"
        },
        "id": "tr458zHOJxDU",
        "outputId": "8491683b-57f6-4bbf-83bc-7f7a3f514747"
      },
      "outputs": [
        {
          "data": {
            "text/plain": [
              "(2821515, 18)"
            ]
          },
          "execution_count": 31,
          "metadata": {},
          "output_type": "execute_result"
        }
      ],
      "source": [
        "yellowtaxi.shape"
      ]
    },
    {
      "cell_type": "code",
      "execution_count": null,
      "metadata": {
        "colab": {
          "base_uri": "https://localhost:8080/"
        },
        "id": "-J3QKIM0Jxip",
        "outputId": "e65d1baa-e0d6-4028-db84-24fdfdab65ac"
      },
      "outputs": [
        {
          "name": "stderr",
          "output_type": "stream",
          "text": [
            "/usr/local/lib/python3.7/dist-packages/ipykernel_launcher.py:1: FutureWarning: null_counts is deprecated. Use show_counts instead\n",
            "  \"\"\"Entry point for launching an IPython kernel.\n"
          ]
        },
        {
          "name": "stdout",
          "output_type": "stream",
          "text": [
            "<class 'pandas.core.frame.DataFrame'>\n",
            "RangeIndex: 2821515 entries, 0 to 2821514\n",
            "Data columns (total 18 columns):\n",
            " #   Column                 Non-Null Count    Dtype  \n",
            "---  ------                 --------------    -----  \n",
            " 0   VendorID               2690859 non-null  float64\n",
            " 1   tpep_pickup_datetime   2821515 non-null  object \n",
            " 2   tpep_dropoff_datetime  2821515 non-null  object \n",
            " 3   passenger_count        2690859 non-null  float64\n",
            " 4   trip_distance          2821515 non-null  float64\n",
            " 5   RatecodeID             2690859 non-null  float64\n",
            " 6   store_and_fwd_flag     2690859 non-null  object \n",
            " 7   PULocationID           2821515 non-null  int64  \n",
            " 8   DOLocationID           2821515 non-null  int64  \n",
            " 9   payment_type           2690859 non-null  float64\n",
            " 10  fare_amount            2821515 non-null  float64\n",
            " 11  extra                  2821515 non-null  float64\n",
            " 12  mta_tax                2821515 non-null  float64\n",
            " 13  tip_amount             2821515 non-null  float64\n",
            " 14  tolls_amount           2821515 non-null  float64\n",
            " 15  improvement_surcharge  2821515 non-null  float64\n",
            " 16  total_amount           2821515 non-null  float64\n",
            " 17  congestion_surcharge   2821515 non-null  float64\n",
            "dtypes: float64(13), int64(2), object(3)\n",
            "memory usage: 387.5+ MB\n"
          ]
        }
      ],
      "source": [
        "yellowtaxi.info(null_counts=True)"
      ]
    },
    {
      "cell_type": "code",
      "execution_count": null,
      "metadata": {
        "id": "QKBBJ1NRJyFC"
      },
      "outputs": [],
      "source": [
        "yellowtaxi_dropna=yellowtaxi.dropna()"
      ]
    },
    {
      "cell_type": "code",
      "execution_count": null,
      "metadata": {
        "colab": {
          "base_uri": "https://localhost:8080/"
        },
        "id": "i-llExozMayI",
        "outputId": "6f5f79d6-8201-4cbf-a3a1-ff724958a6f3"
      },
      "outputs": [
        {
          "name": "stderr",
          "output_type": "stream",
          "text": [
            "/usr/local/lib/python3.7/dist-packages/ipykernel_launcher.py:1: FutureWarning: null_counts is deprecated. Use show_counts instead\n",
            "  \"\"\"Entry point for launching an IPython kernel.\n"
          ]
        },
        {
          "name": "stdout",
          "output_type": "stream",
          "text": [
            "<class 'pandas.core.frame.DataFrame'>\n",
            "Int64Index: 2690859 entries, 0 to 2690858\n",
            "Data columns (total 18 columns):\n",
            " #   Column                 Non-Null Count    Dtype  \n",
            "---  ------                 --------------    -----  \n",
            " 0   VendorID               2690859 non-null  float64\n",
            " 1   tpep_pickup_datetime   2690859 non-null  object \n",
            " 2   tpep_dropoff_datetime  2690859 non-null  object \n",
            " 3   passenger_count        2690859 non-null  float64\n",
            " 4   trip_distance          2690859 non-null  float64\n",
            " 5   RatecodeID             2690859 non-null  float64\n",
            " 6   store_and_fwd_flag     2690859 non-null  object \n",
            " 7   PULocationID           2690859 non-null  int64  \n",
            " 8   DOLocationID           2690859 non-null  int64  \n",
            " 9   payment_type           2690859 non-null  float64\n",
            " 10  fare_amount            2690859 non-null  float64\n",
            " 11  extra                  2690859 non-null  float64\n",
            " 12  mta_tax                2690859 non-null  float64\n",
            " 13  tip_amount             2690859 non-null  float64\n",
            " 14  tolls_amount           2690859 non-null  float64\n",
            " 15  improvement_surcharge  2690859 non-null  float64\n",
            " 16  total_amount           2690859 non-null  float64\n",
            " 17  congestion_surcharge   2690859 non-null  float64\n",
            "dtypes: float64(13), int64(2), object(3)\n",
            "memory usage: 390.1+ MB\n"
          ]
        }
      ],
      "source": [
        "yellowtaxi_dropna.info(null_counts=True)"
      ]
    },
    {
      "cell_type": "code",
      "execution_count": null,
      "metadata": {
        "colab": {
          "base_uri": "https://localhost:8080/"
        },
        "id": "Lo6-4PaBMlqU",
        "outputId": "183dd07c-3db7-401c-bf0b-7855ad4eba46"
      },
      "outputs": [
        {
          "name": "stderr",
          "output_type": "stream",
          "text": [
            "/usr/local/lib/python3.7/dist-packages/pandas/core/generic.py:5516: SettingWithCopyWarning: \n",
            "A value is trying to be set on a copy of a slice from a DataFrame.\n",
            "Try using .loc[row_indexer,col_indexer] = value instead\n",
            "\n",
            "See the caveats in the documentation: https://pandas.pydata.org/pandas-docs/stable/user_guide/indexing.html#returning-a-view-versus-a-copy\n",
            "  self[name] = value\n"
          ]
        }
      ],
      "source": [
        "# pd.to_datetime()\n",
        "yellowtaxi_dropna.tpep_pickup_datetime=pd.to_datetime(yellowtaxi_dropna.tpep_pickup_datetime,errors='coerce')"
      ]
    },
    {
      "cell_type": "code",
      "execution_count": null,
      "metadata": {
        "colab": {
          "base_uri": "https://localhost:8080/"
        },
        "id": "jOOLB2X9OFtN",
        "outputId": "5c95125b-4964-4794-99a7-3e3dda3c7cbe"
      },
      "outputs": [
        {
          "name": "stderr",
          "output_type": "stream",
          "text": [
            "/usr/local/lib/python3.7/dist-packages/pandas/core/generic.py:5516: SettingWithCopyWarning: \n",
            "A value is trying to be set on a copy of a slice from a DataFrame.\n",
            "Try using .loc[row_indexer,col_indexer] = value instead\n",
            "\n",
            "See the caveats in the documentation: https://pandas.pydata.org/pandas-docs/stable/user_guide/indexing.html#returning-a-view-versus-a-copy\n",
            "  self[name] = value\n"
          ]
        }
      ],
      "source": [
        "yellowtaxi_dropna.tpep_dropoff_datetime=pd.to_datetime(yellowtaxi_dropna.tpep_dropoff_datetime,errors='coerce')"
      ]
    },
    {
      "cell_type": "code",
      "execution_count": null,
      "metadata": {
        "colab": {
          "base_uri": "https://localhost:8080/"
        },
        "id": "bLqPqTF3OelB",
        "outputId": "e1473a82-1b0f-4675-e380-0a13b19c72d2"
      },
      "outputs": [
        {
          "name": "stderr",
          "output_type": "stream",
          "text": [
            "/usr/local/lib/python3.7/dist-packages/ipykernel_launcher.py:1: SettingWithCopyWarning: \n",
            "A value is trying to be set on a copy of a slice from a DataFrame.\n",
            "Try using .loc[row_indexer,col_indexer] = value instead\n",
            "\n",
            "See the caveats in the documentation: https://pandas.pydata.org/pandas-docs/stable/user_guide/indexing.html#returning-a-view-versus-a-copy\n",
            "  \"\"\"Entry point for launching an IPython kernel.\n"
          ]
        }
      ],
      "source": [
        "yellowtaxi_dropna['trip_time']=yellowtaxi_dropna.tpep_dropoff_datetime-yellowtaxi_dropna.tpep_pickup_datetime"
      ]
    },
    {
      "cell_type": "code",
      "execution_count": null,
      "metadata": {
        "colab": {
          "base_uri": "https://localhost:8080/"
        },
        "id": "eMJMM0VxQvCb",
        "outputId": "498f369e-b04a-4f61-8b63-d47f3ab9e959"
      },
      "outputs": [
        {
          "data": {
            "text/plain": [
              "count                      2690859\n",
              "mean     0 days 00:16:18.381787005\n",
              "std      0 days 01:03:39.514093587\n",
              "min              -2 days +09:14:36\n",
              "25%                0 days 00:06:33\n",
              "50%                0 days 00:10:38\n",
              "75%                0 days 00:16:56\n",
              "max                2 days 02:18:37\n",
              "Name: trip_time, dtype: object"
            ]
          },
          "execution_count": 38,
          "metadata": {},
          "output_type": "execute_result"
        }
      ],
      "source": [
        "yellowtaxi_dropna.trip_time.describe()"
      ]
    },
    {
      "cell_type": "code",
      "execution_count": null,
      "metadata": {
        "colab": {
          "base_uri": "https://localhost:8080/"
        },
        "id": "j-aIyQeDRKxx",
        "outputId": "6cffb090-98f5-4704-bed6-cb2dc7b044e2"
      },
      "outputs": [
        {
          "name": "stderr",
          "output_type": "stream",
          "text": [
            "/usr/local/lib/python3.7/dist-packages/pandas/core/generic.py:5516: SettingWithCopyWarning: \n",
            "A value is trying to be set on a copy of a slice from a DataFrame.\n",
            "Try using .loc[row_indexer,col_indexer] = value instead\n",
            "\n",
            "See the caveats in the documentation: https://pandas.pydata.org/pandas-docs/stable/user_guide/indexing.html#returning-a-view-versus-a-copy\n",
            "  self[name] = value\n"
          ]
        }
      ],
      "source": [
        "# Convert time into minutes\n",
        "yellowtaxi_dropna.trip_time=yellowtaxi_dropna.trip_time.dt.total_seconds()/60.0"
      ]
    },
    {
      "cell_type": "code",
      "execution_count": null,
      "metadata": {
        "colab": {
          "base_uri": "https://localhost:8080/"
        },
        "id": "E22n3yspR5B4",
        "outputId": "ee6ede96-7dab-4ea7-994e-1f97ba4918f5"
      },
      "outputs": [
        {
          "data": {
            "text/plain": [
              "count    2690859.00\n",
              "mean          16.31\n",
              "std           63.66\n",
              "min        -2325.40\n",
              "25%            6.55\n",
              "50%           10.63\n",
              "75%           16.93\n",
              "max         3018.62\n",
              "Name: trip_time, dtype: float64"
            ]
          },
          "execution_count": 40,
          "metadata": {},
          "output_type": "execute_result"
        }
      ],
      "source": [
        "np.round(yellowtaxi_dropna.trip_time.describe(),2)"
      ]
    },
    {
      "cell_type": "code",
      "execution_count": null,
      "metadata": {
        "colab": {
          "base_uri": "https://localhost:8080/"
        },
        "id": "3U5lfzW6SKuM",
        "outputId": "f95f1806-43a3-4acd-a848-212cab1cb249"
      },
      "outputs": [
        {
          "name": "stderr",
          "output_type": "stream",
          "text": [
            "/usr/local/lib/python3.7/dist-packages/ipykernel_launcher.py:3: SettingWithCopyWarning: \n",
            "A value is trying to be set on a copy of a slice from a DataFrame.\n",
            "Try using .loc[row_indexer,col_indexer] = value instead\n",
            "\n",
            "See the caveats in the documentation: https://pandas.pydata.org/pandas-docs/stable/user_guide/indexing.html#returning-a-view-versus-a-copy\n",
            "  This is separate from the ipykernel package so we can avoid doing imports until\n"
          ]
        }
      ],
      "source": [
        "# Extract information from date as new variables - pickuptime date\n",
        "# Weekday, Weeknumber, Hour of day, day of month,ismonthstart, ismonthend\n",
        "yellowtaxi_dropna['hourofday']=yellowtaxi_dropna.tpep_pickup_datetime.dt.hour"
      ]
    },
    {
      "cell_type": "code",
      "execution_count": null,
      "metadata": {
        "colab": {
          "base_uri": "https://localhost:8080/"
        },
        "id": "NBWf3cENTQfC",
        "outputId": "6019bb81-7338-493b-d744-4580506fc7d6"
      },
      "outputs": [
        {
          "name": "stderr",
          "output_type": "stream",
          "text": [
            "/usr/local/lib/python3.7/dist-packages/ipykernel_launcher.py:1: SettingWithCopyWarning: \n",
            "A value is trying to be set on a copy of a slice from a DataFrame.\n",
            "Try using .loc[row_indexer,col_indexer] = value instead\n",
            "\n",
            "See the caveats in the documentation: https://pandas.pydata.org/pandas-docs/stable/user_guide/indexing.html#returning-a-view-versus-a-copy\n",
            "  \"\"\"Entry point for launching an IPython kernel.\n"
          ]
        }
      ],
      "source": [
        "yellowtaxi_dropna[\"weekday\"]=yellowtaxi_dropna.tpep_pickup_datetime.dt.weekday"
      ]
    },
    {
      "cell_type": "code",
      "execution_count": null,
      "metadata": {
        "colab": {
          "base_uri": "https://localhost:8080/"
        },
        "id": "RvauiCr5Tfd1",
        "outputId": "3cd243b5-58c0-457c-be73-45186808f0c8"
      },
      "outputs": [
        {
          "name": "stderr",
          "output_type": "stream",
          "text": [
            "/usr/local/lib/python3.7/dist-packages/ipykernel_launcher.py:1: FutureWarning: Series.dt.weekofyear and Series.dt.week have been deprecated.  Please use Series.dt.isocalendar().week instead.\n",
            "  \"\"\"Entry point for launching an IPython kernel.\n",
            "/usr/local/lib/python3.7/dist-packages/ipykernel_launcher.py:1: SettingWithCopyWarning: \n",
            "A value is trying to be set on a copy of a slice from a DataFrame.\n",
            "Try using .loc[row_indexer,col_indexer] = value instead\n",
            "\n",
            "See the caveats in the documentation: https://pandas.pydata.org/pandas-docs/stable/user_guide/indexing.html#returning-a-view-versus-a-copy\n",
            "  \"\"\"Entry point for launching an IPython kernel.\n"
          ]
        }
      ],
      "source": [
        "yellowtaxi_dropna[\"weeknumber\"]=yellowtaxi_dropna.tpep_pickup_datetime.dt.weekofyear"
      ]
    },
    {
      "cell_type": "code",
      "execution_count": null,
      "metadata": {
        "colab": {
          "base_uri": "https://localhost:8080/"
        },
        "id": "iBQn7r0JTvGN",
        "outputId": "c9e19dbf-6216-469b-b342-f0789d6c13b3"
      },
      "outputs": [
        {
          "name": "stderr",
          "output_type": "stream",
          "text": [
            "/usr/local/lib/python3.7/dist-packages/ipykernel_launcher.py:1: SettingWithCopyWarning: \n",
            "A value is trying to be set on a copy of a slice from a DataFrame.\n",
            "Try using .loc[row_indexer,col_indexer] = value instead\n",
            "\n",
            "See the caveats in the documentation: https://pandas.pydata.org/pandas-docs/stable/user_guide/indexing.html#returning-a-view-versus-a-copy\n",
            "  \"\"\"Entry point for launching an IPython kernel.\n"
          ]
        }
      ],
      "source": [
        "yellowtaxi_dropna[\"dayofmonth\"]=yellowtaxi_dropna.tpep_pickup_datetime.dt.day"
      ]
    },
    {
      "cell_type": "code",
      "execution_count": null,
      "metadata": {
        "colab": {
          "base_uri": "https://localhost:8080/"
        },
        "id": "sZVbPeqfUIQI",
        "outputId": "3c2ee342-dcf7-4a1b-b7df-5cf46f1a4980"
      },
      "outputs": [
        {
          "name": "stderr",
          "output_type": "stream",
          "text": [
            "/usr/local/lib/python3.7/dist-packages/ipykernel_launcher.py:1: SettingWithCopyWarning: \n",
            "A value is trying to be set on a copy of a slice from a DataFrame.\n",
            "Try using .loc[row_indexer,col_indexer] = value instead\n",
            "\n",
            "See the caveats in the documentation: https://pandas.pydata.org/pandas-docs/stable/user_guide/indexing.html#returning-a-view-versus-a-copy\n",
            "  \"\"\"Entry point for launching an IPython kernel.\n"
          ]
        }
      ],
      "source": [
        "yellowtaxi_dropna[\"ismonthstart\"]=yellowtaxi_dropna.tpep_pickup_datetime.dt.is_month_start"
      ]
    },
    {
      "cell_type": "code",
      "execution_count": null,
      "metadata": {
        "colab": {
          "base_uri": "https://localhost:8080/"
        },
        "id": "MBTBzGQ3Uaun",
        "outputId": "a062323a-024b-4b11-e48c-065d661513e6"
      },
      "outputs": [
        {
          "name": "stderr",
          "output_type": "stream",
          "text": [
            "/usr/local/lib/python3.7/dist-packages/ipykernel_launcher.py:1: SettingWithCopyWarning: \n",
            "A value is trying to be set on a copy of a slice from a DataFrame.\n",
            "Try using .loc[row_indexer,col_indexer] = value instead\n",
            "\n",
            "See the caveats in the documentation: https://pandas.pydata.org/pandas-docs/stable/user_guide/indexing.html#returning-a-view-versus-a-copy\n",
            "  \"\"\"Entry point for launching an IPython kernel.\n"
          ]
        }
      ],
      "source": [
        "yellowtaxi_dropna[\"ismonthend\"]=yellowtaxi_dropna.tpep_pickup_datetime.dt.is_month_end"
      ]
    },
    {
      "cell_type": "code",
      "execution_count": null,
      "metadata": {
        "colab": {
          "base_uri": "https://localhost:8080/"
        },
        "id": "gK-jnUrZUhYe",
        "outputId": "5b483d92-42b2-42c9-fa84-d4b13932a9df"
      },
      "outputs": [
        {
          "name": "stderr",
          "output_type": "stream",
          "text": [
            "/usr/local/lib/python3.7/dist-packages/ipykernel_launcher.py:1: FutureWarning: null_counts is deprecated. Use show_counts instead\n",
            "  \"\"\"Entry point for launching an IPython kernel.\n"
          ]
        },
        {
          "name": "stdout",
          "output_type": "stream",
          "text": [
            "<class 'pandas.core.frame.DataFrame'>\n",
            "Int64Index: 2690859 entries, 0 to 2690858\n",
            "Data columns (total 25 columns):\n",
            " #   Column                 Non-Null Count    Dtype         \n",
            "---  ------                 --------------    -----         \n",
            " 0   VendorID               2690859 non-null  float64       \n",
            " 1   tpep_pickup_datetime   2690859 non-null  datetime64[ns]\n",
            " 2   tpep_dropoff_datetime  2690859 non-null  datetime64[ns]\n",
            " 3   passenger_count        2690859 non-null  float64       \n",
            " 4   trip_distance          2690859 non-null  float64       \n",
            " 5   RatecodeID             2690859 non-null  float64       \n",
            " 6   store_and_fwd_flag     2690859 non-null  object        \n",
            " 7   PULocationID           2690859 non-null  int64         \n",
            " 8   DOLocationID           2690859 non-null  int64         \n",
            " 9   payment_type           2690859 non-null  float64       \n",
            " 10  fare_amount            2690859 non-null  float64       \n",
            " 11  extra                  2690859 non-null  float64       \n",
            " 12  mta_tax                2690859 non-null  float64       \n",
            " 13  tip_amount             2690859 non-null  float64       \n",
            " 14  tolls_amount           2690859 non-null  float64       \n",
            " 15  improvement_surcharge  2690859 non-null  float64       \n",
            " 16  total_amount           2690859 non-null  float64       \n",
            " 17  congestion_surcharge   2690859 non-null  float64       \n",
            " 18  trip_time              2690859 non-null  float64       \n",
            " 19  hourofday              2690859 non-null  int64         \n",
            " 20  weekday                2690859 non-null  int64         \n",
            " 21  weeknumber             2690859 non-null  int64         \n",
            " 22  dayofmonth             2690859 non-null  int64         \n",
            " 23  ismonthstart           2690859 non-null  bool          \n",
            " 24  ismonthend             2690859 non-null  bool          \n",
            "dtypes: bool(2), datetime64[ns](2), float64(14), int64(6), object(1)\n",
            "memory usage: 497.8+ MB\n"
          ]
        }
      ],
      "source": [
        "yellowtaxi_dropna.info(null_counts=True)"
      ]
    },
    {
      "cell_type": "code",
      "execution_count": null,
      "metadata": {
        "id": "0lIHJOB_UwkM"
      },
      "outputs": [],
      "source": [
        "# tip_amount is the dependent variable\n",
        "# What hour in the day maximum average tip_amount is paid?\n",
        "hourlytip=np.round(yellowtaxi_dropna.tip_amount.groupby(yellowtaxi_dropna.hourofday).mean(),2).reset_index()"
      ]
    },
    {
      "cell_type": "code",
      "execution_count": null,
      "metadata": {
        "id": "ZkS2uybJVzOk"
      },
      "outputs": [],
      "source": [
        "import seaborn as sns"
      ]
    },
    {
      "cell_type": "code",
      "execution_count": null,
      "metadata": {
        "colab": {
          "base_uri": "https://localhost:8080/"
        },
        "id": "sXRgOClgWfTN",
        "outputId": "c0353496-eb50-49fe-9187-0b56cba7f9ea"
      },
      "outputs": [
        {
          "name": "stdout",
          "output_type": "stream",
          "text": [
            "Requirement already satisfied: matplotlib in /usr/local/lib/python3.7/dist-packages (3.5.1)\n",
            "Requirement already satisfied: python-dateutil>=2.7 in /usr/local/lib/python3.7/dist-packages (from matplotlib) (2.8.2)\n",
            "Requirement already satisfied: cycler>=0.10 in /usr/local/lib/python3.7/dist-packages (from matplotlib) (0.11.0)\n",
            "Requirement already satisfied: kiwisolver>=1.0.1 in /usr/local/lib/python3.7/dist-packages (from matplotlib) (1.4.0)\n",
            "Requirement already satisfied: pillow>=6.2.0 in /usr/local/lib/python3.7/dist-packages (from matplotlib) (7.1.2)\n",
            "Requirement already satisfied: pyparsing>=2.2.1 in /usr/local/lib/python3.7/dist-packages (from matplotlib) (3.0.7)\n",
            "Requirement already satisfied: fonttools>=4.22.0 in /usr/local/lib/python3.7/dist-packages (from matplotlib) (4.31.2)\n",
            "Requirement already satisfied: packaging>=20.0 in /usr/local/lib/python3.7/dist-packages (from matplotlib) (21.3)\n",
            "Requirement already satisfied: numpy>=1.17 in /usr/local/lib/python3.7/dist-packages (from matplotlib) (1.21.5)\n",
            "Requirement already satisfied: typing-extensions in /usr/local/lib/python3.7/dist-packages (from kiwisolver>=1.0.1->matplotlib) (3.10.0.2)\n",
            "Requirement already satisfied: six>=1.5 in /usr/local/lib/python3.7/dist-packages (from python-dateutil>=2.7->matplotlib) (1.15.0)\n"
          ]
        }
      ],
      "source": [
        "!pip install matplotlib --upgrade"
      ]
    },
    {
      "cell_type": "code",
      "execution_count": null,
      "metadata": {
        "colab": {
          "base_uri": "https://localhost:8080/",
          "height": 1000
        },
        "id": "YkLc_DWEXPj8",
        "outputId": "3cfae107-c553-4911-b96d-701f212d0827"
      },
      "outputs": [
        {
          "data": {
            "text/plain": [
              "[Text(0, 0, '2.69'),\n",
              " Text(0, 0, '2.52'),\n",
              " Text(0, 0, '2.38'),\n",
              " Text(0, 0, '2.35'),\n",
              " Text(0, 0, '2.56'),\n",
              " Text(0, 0, '2.92'),\n",
              " Text(0, 0, '2.58'),\n",
              " Text(0, 0, '2.4'),\n",
              " Text(0, 0, '2.31'),\n",
              " Text(0, 0, '2.23'),\n",
              " Text(0, 0, '2.11'),\n",
              " Text(0, 0, '2.13'),\n",
              " Text(0, 0, '2.16'),\n",
              " Text(0, 0, '2.22'),\n",
              " Text(0, 0, '2.26'),\n",
              " Text(0, 0, '2.31'),\n",
              " Text(0, 0, '2.45'),\n",
              " Text(0, 0, '2.39'),\n",
              " Text(0, 0, '2.36'),\n",
              " Text(0, 0, '2.35'),\n",
              " Text(0, 0, '2.39'),\n",
              " Text(0, 0, '2.49'),\n",
              " Text(0, 0, '2.53'),\n",
              " Text(0, 0, '2.6')]"
            ]
          },
          "execution_count": 51,
          "metadata": {},
          "output_type": "execute_result"
        },
        {
          "data": {
            "image/png": "[encoded data removed]",
            "text/plain": [
              "<Figure size 1080x720 with 1 Axes>"
            ]
          },
          "metadata": {
            "needs_background": "light"
          },
          "output_type": "display_data"
        }
      ],
      "source": [
        "plt.figure(figsize=(15,10))\n",
        "hourax=sns.barplot(x='hourofday',y='tip_amount',data=hourlytip)\n",
        "hourax.bar_label(hourax.containers[0])"
      ]
    },
    {
      "cell_type": "code",
      "execution_count": null,
      "metadata": {
        "id": "k9MQvURpah36"
      },
      "outputs": [],
      "source": [
        "# Which weekday most average tip amount is paid?\n",
        "weekdaytip=np.round(yellowtaxi_dropna.tip_amount.groupby(yellowtaxi_dropna.weekday).mean(),2).reset_index()"
      ]
    },
    {
      "cell_type": "code",
      "execution_count": null,
      "metadata": {
        "colab": {
          "base_uri": "https://localhost:8080/",
          "height": 401
        },
        "id": "QDOY8Iibkyzp",
        "outputId": "9b611db9-dbcc-4615-f1e6-cde5391c992a"
      },
      "outputs": [
        {
          "data": {
            "text/plain": [
              "[Text(0, 0, '2.37'),\n",
              " Text(0, 0, '2.28'),\n",
              " Text(0, 0, '2.33'),\n",
              " Text(0, 0, '2.39'),\n",
              " Text(0, 0, '2.36'),\n",
              " Text(0, 0, '2.29'),\n",
              " Text(0, 0, '2.45')]"
            ]
          },
          "execution_count": 53,
          "metadata": {},
          "output_type": "execute_result"
        },
        {
          "data": {
            "image/png": "[encoded data removed]",
            "text/plain": [
              "<Figure size 432x288 with 1 Axes>"
            ]
          },
          "metadata": {
            "needs_background": "light"
          },
          "output_type": "display_data"
        }
      ],
      "source": [
        "weekax=sns.barplot(x='weekday',y='tip_amount',data=weekdaytip)\n",
        "weekax.bar_label(weekax.containers[0])"
      ]
    },
    {
      "cell_type": "code",
      "execution_count": null,
      "metadata": {
        "colab": {
          "base_uri": "https://localhost:8080/",
          "height": 112
        },
        "id": "uWMBJGlqlC8A",
        "outputId": "79c08d1b-3cd7-4548-a381-06707ec9e506"
      },
      "outputs": [
        {
          "data": {
            "text/html": [
              "\n",
              "  <div id=\"df-dd5943d5-4127-401a-934e-1d0875311dcb\">\n",
              "    <div class=\"colab-df-container\">\n",
              "      <div>\n",
              "<style scoped>\n",
              "    .dataframe tbody tr th:only-of-type {\n",
              "        vertical-align: middle;\n",
              "    }\n",
              "\n",
              "    .dataframe tbody tr th {\n",
              "        vertical-align: top;\n",
              "    }\n",
              "\n",
              "    .dataframe thead th {\n",
              "        text-align: right;\n",
              "    }\n",
              "</style>\n",
              "<table border=\"1\" class=\"dataframe\">\n",
              "  <thead>\n",
              "    <tr style=\"text-align: right;\">\n",
              "      <th></th>\n",
              "      <th>tip_amount</th>\n",
              "      <th>trip_distance</th>\n",
              "    </tr>\n",
              "  </thead>\n",
              "  <tbody>\n",
              "    <tr>\n",
              "      <th>tip_amount</th>\n",
              "      <td>1.000000</td>\n",
              "      <td>0.464515</td>\n",
              "    </tr>\n",
              "    <tr>\n",
              "      <th>trip_distance</th>\n",
              "      <td>0.464515</td>\n",
              "      <td>1.000000</td>\n",
              "    </tr>\n",
              "  </tbody>\n",
              "</table>\n",
              "</div>\n",
              "      <button class=\"colab-df-convert\" onclick=\"convertToInteractive('df-dd5943d5-4127-401a-934e-1d0875311dcb')\"\n",
              "              title=\"Convert this dataframe to an interactive table.\"\n",
              "              style=\"display:none;\">\n",
              "        \n",
              "  <svg xmlns=\"http://www.w3.org/2000/svg\" height=\"24px\"viewBox=\"0 0 24 24\"\n",
              "       width=\"24px\">\n",
              "    <path d=\"M0 0h24v24H0V0z\" fill=\"none\"/>\n",
              "    <path d=\"M18.56 5.44l.94 2.06.94-2.06 2.06-.94-2.06-.94-.94-2.06-.94 2.06-2.06.94zm-11 1L8.5 8.5l.94-2.06 2.06-.94-2.06-.94L8.5 2.5l-.94 2.06-2.06.94zm10 10l.94 2.06.94-2.06 2.06-.94-2.06-.94-.94-2.06-.94 2.06-2.06.94z\"/><path d=\"M17.41 7.96l-1.37-1.37c-.4-.4-.92-.59-1.43-.59-.52 0-1.04.2-1.43.59L10.3 9.45l-7.72 7.72c-.78.78-.78 2.05 0 2.83L4 21.41c.39.39.9.59 1.41.59.51 0 1.02-.2 1.41-.59l7.78-7.78 2.81-2.81c.8-.78.8-2.07 0-2.86zM5.41 20L4 18.59l7.72-7.72 1.47 1.35L5.41 20z\"/>\n",
              "  </svg>\n",
              "      </button>\n",
              "      \n",
              "  <style>\n",
              "    .colab-df-container {\n",
              "      display:flex;\n",
              "      flex-wrap:wrap;\n",
              "      gap: 12px;\n",
              "    }\n",
              "\n",
              "    .colab-df-convert {\n",
              "      background-color: #E8F0FE;\n",
              "      border: none;\n",
              "      border-radius: 50%;\n",
              "      cursor: pointer;\n",
              "      display: none;\n",
              "      fill: #1967D2;\n",
              "      height: 32px;\n",
              "      padding: 0 0 0 0;\n",
              "      width: 32px;\n",
              "    }\n",
              "\n",
              "    .colab-df-convert:hover {\n",
              "      background-color: #E2EBFA;\n",
              "      box-shadow: 0px 1px 2px rgba(60, 64, 67, 0.3), 0px 1px 3px 1px rgba(60, 64, 67, 0.15);\n",
              "      fill: #174EA6;\n",
              "    }\n",
              "\n",
              "    [theme=dark] .colab-df-convert {\n",
              "      background-color: #3B4455;\n",
              "      fill: #D2E3FC;\n",
              "    }\n",
              "\n",
              "    [theme=dark] .colab-df-convert:hover {\n",
              "      background-color: #434B5C;\n",
              "      box-shadow: 0px 1px 3px 1px rgba(0, 0, 0, 0.15);\n",
              "      filter: drop-shadow(0px 1px 2px rgba(0, 0, 0, 0.3));\n",
              "      fill: #FFFFFF;\n",
              "    }\n",
              "  </style>\n",
              "\n",
              "      <script>\n",
              "        const buttonEl =\n",
              "          document.querySelector('#df-dd5943d5-4127-401a-934e-1d0875311dcb button.colab-df-convert');\n",
              "        buttonEl.style.display =\n",
              "          google.colab.kernel.accessAllowed ? 'block' : 'none';\n",
              "\n",
              "        async function convertToInteractive(key) {\n",
              "          const element = document.querySelector('#df-dd5943d5-4127-401a-934e-1d0875311dcb');\n",
              "          const dataTable =\n",
              "            await google.colab.kernel.invokeFunction('convertToInteractive',\n",
              "                                                     [key], {});\n",
              "          if (!dataTable) return;\n",
              "\n",
              "          const docLinkHtml = 'Like what you see? Visit the ' +\n",
              "            '<a target=\"_blank\" href=https://colab.research.google.com/notebooks/data_table.ipynb>data table notebook</a>'\n",
              "            + ' to learn more about interactive tables.';\n",
              "          element.innerHTML = '';\n",
              "          dataTable['output_type'] = 'display_data';\n",
              "          await google.colab.output.renderOutput(dataTable, element);\n",
              "          const docLink = document.createElement('div');\n",
              "          docLink.innerHTML = docLinkHtml;\n",
              "          element.appendChild(docLink);\n",
              "        }\n",
              "      </script>\n",
              "    </div>\n",
              "  </div>\n",
              "  "
            ],
            "text/plain": [
              "               tip_amount  trip_distance\n",
              "tip_amount       1.000000       0.464515\n",
              "trip_distance    0.464515       1.000000"
            ]
          },
          "execution_count": 55,
          "metadata": {},
          "output_type": "execute_result"
        }
      ],
      "source": [
        "# Is there a relationship b/w tip_amount and trip_distance?\n",
        "yellowtaxi_dropna[['tip_amount','trip_distance']].corr()\n",
        "# No relationship b/w tip_amount and trip_distance"
      ]
    },
    {
      "cell_type": "code",
      "execution_count": null,
      "metadata": {
        "colab": {
          "base_uri": "https://localhost:8080/"
        },
        "id": "tgRvdNywlwoL",
        "outputId": "e37933e8-ad52-44dd-a5c3-e80c7ea3b463"
      },
      "outputs": [
        {
          "data": {
            "text/plain": [
              "Index(['VendorID', 'tpep_pickup_datetime', 'tpep_dropoff_datetime',\n",
              "       'passenger_count', 'trip_distance', 'RatecodeID', 'store_and_fwd_flag',\n",
              "       'PULocationID', 'DOLocationID', 'payment_type', 'fare_amount', 'extra',\n",
              "       'mta_tax', 'tip_amount', 'tolls_amount', 'improvement_surcharge',\n",
              "       'total_amount', 'congestion_surcharge', 'trip_time', 'hourofday',\n",
              "       'weekday', 'weeknumber', 'dayofmonth', 'ismonthstart', 'ismonthend'],\n",
              "      dtype='object')"
            ]
          },
          "execution_count": 56,
          "metadata": {},
          "output_type": "execute_result"
        }
      ],
      "source": [
        "yellowtaxi_dropna.columns"
      ]
    },
    {
      "cell_type": "code",
      "execution_count": null,
      "metadata": {
        "id": "1ubI-1BfmOJY"
      },
      "outputs": [],
      "source": [
        "numericcols=yellowtaxi_dropna[['passenger_count', 'trip_distance','fare_amount', 'extra',\n",
        "       'mta_tax', 'tip_amount', 'tolls_amount', 'improvement_surcharge',\n",
        "       'total_amount', 'congestion_surcharge', 'trip_time',]]"
      ]
    },
    {
      "cell_type": "code",
      "execution_count": null,
      "metadata": {
        "colab": {
          "base_uri": "https://localhost:8080/",
          "height": 458
        },
        "id": "35HZxD-Tmnvz",
        "outputId": "3c1f7d67-a1fe-43f5-d1c3-2a322b144978"
      },
      "outputs": [
        {
          "data": {
            "text/html": [
              "\n",
              "  <div id=\"df-16f31e1f-96d8-4622-bb24-c961d79e6f19\">\n",
              "    <div class=\"colab-df-container\">\n",
              "      <div>\n",
              "<style scoped>\n",
              "    .dataframe tbody tr th:only-of-type {\n",
              "        vertical-align: middle;\n",
              "    }\n",
              "\n",
              "    .dataframe tbody tr th {\n",
              "        vertical-align: top;\n",
              "    }\n",
              "\n",
              "    .dataframe thead th {\n",
              "        text-align: right;\n",
              "    }\n",
              "</style>\n",
              "<table border=\"1\" class=\"dataframe\">\n",
              "  <thead>\n",
              "    <tr style=\"text-align: right;\">\n",
              "      <th></th>\n",
              "      <th>passenger_count</th>\n",
              "      <th>trip_distance</th>\n",
              "      <th>fare_amount</th>\n",
              "      <th>extra</th>\n",
              "      <th>mta_tax</th>\n",
              "      <th>tip_amount</th>\n",
              "      <th>tolls_amount</th>\n",
              "      <th>improvement_surcharge</th>\n",
              "      <th>total_amount</th>\n",
              "      <th>congestion_surcharge</th>\n",
              "      <th>trip_time</th>\n",
              "    </tr>\n",
              "  </thead>\n",
              "  <tbody>\n",
              "    <tr>\n",
              "      <th>passenger_count</th>\n",
              "      <td>1.000000</td>\n",
              "      <td>0.024004</td>\n",
              "      <td>0.023491</td>\n",
              "      <td>-0.118490</td>\n",
              "      <td>0.003134</td>\n",
              "      <td>0.007878</td>\n",
              "      <td>0.016201</td>\n",
              "      <td>0.004730</td>\n",
              "      <td>0.023385</td>\n",
              "      <td>0.006838</td>\n",
              "      <td>0.015869</td>\n",
              "    </tr>\n",
              "    <tr>\n",
              "      <th>trip_distance</th>\n",
              "      <td>0.024004</td>\n",
              "      <td>1.000000</td>\n",
              "      <td>0.790008</td>\n",
              "      <td>0.017983</td>\n",
              "      <td>-0.028540</td>\n",
              "      <td>0.464515</td>\n",
              "      <td>0.499659</td>\n",
              "      <td>0.023071</td>\n",
              "      <td>0.790738</td>\n",
              "      <td>-0.229972</td>\n",
              "      <td>0.133022</td>\n",
              "    </tr>\n",
              "    <tr>\n",
              "      <th>fare_amount</th>\n",
              "      <td>0.023491</td>\n",
              "      <td>0.790008</td>\n",
              "      <td>1.000000</td>\n",
              "      <td>0.011676</td>\n",
              "      <td>-0.018444</td>\n",
              "      <td>0.526044</td>\n",
              "      <td>0.532785</td>\n",
              "      <td>0.137138</td>\n",
              "      <td>0.976516</td>\n",
              "      <td>-0.234831</td>\n",
              "      <td>0.147048</td>\n",
              "    </tr>\n",
              "    <tr>\n",
              "      <th>extra</th>\n",
              "      <td>-0.118490</td>\n",
              "      <td>0.017983</td>\n",
              "      <td>0.011676</td>\n",
              "      <td>1.000000</td>\n",
              "      <td>0.091154</td>\n",
              "      <td>0.025618</td>\n",
              "      <td>0.018121</td>\n",
              "      <td>0.080687</td>\n",
              "      <td>0.038170</td>\n",
              "      <td>0.156455</td>\n",
              "      <td>-0.018851</td>\n",
              "    </tr>\n",
              "    <tr>\n",
              "      <th>mta_tax</th>\n",
              "      <td>0.003134</td>\n",
              "      <td>-0.028540</td>\n",
              "      <td>-0.018444</td>\n",
              "      <td>0.091154</td>\n",
              "      <td>1.000000</td>\n",
              "      <td>-0.019285</td>\n",
              "      <td>-0.090908</td>\n",
              "      <td>0.863824</td>\n",
              "      <td>0.003635</td>\n",
              "      <td>0.448299</td>\n",
              "      <td>0.002279</td>\n",
              "    </tr>\n",
              "    <tr>\n",
              "      <th>tip_amount</th>\n",
              "      <td>0.007878</td>\n",
              "      <td>0.464515</td>\n",
              "      <td>0.526044</td>\n",
              "      <td>0.025618</td>\n",
              "      <td>-0.019285</td>\n",
              "      <td>1.000000</td>\n",
              "      <td>0.368581</td>\n",
              "      <td>0.057826</td>\n",
              "      <td>0.666096</td>\n",
              "      <td>-0.046400</td>\n",
              "      <td>0.071457</td>\n",
              "    </tr>\n",
              "    <tr>\n",
              "      <th>tolls_amount</th>\n",
              "      <td>0.016201</td>\n",
              "      <td>0.499659</td>\n",
              "      <td>0.532785</td>\n",
              "      <td>0.018121</td>\n",
              "      <td>-0.090908</td>\n",
              "      <td>0.368581</td>\n",
              "      <td>1.000000</td>\n",
              "      <td>0.021002</td>\n",
              "      <td>0.625473</td>\n",
              "      <td>-0.122604</td>\n",
              "      <td>0.077032</td>\n",
              "    </tr>\n",
              "    <tr>\n",
              "      <th>improvement_surcharge</th>\n",
              "      <td>0.004730</td>\n",
              "      <td>0.023071</td>\n",
              "      <td>0.137138</td>\n",
              "      <td>0.080687</td>\n",
              "      <td>0.863824</td>\n",
              "      <td>0.057826</td>\n",
              "      <td>0.021002</td>\n",
              "      <td>1.000000</td>\n",
              "      <td>0.155784</td>\n",
              "      <td>0.410794</td>\n",
              "      <td>0.007742</td>\n",
              "    </tr>\n",
              "    <tr>\n",
              "      <th>total_amount</th>\n",
              "      <td>0.023385</td>\n",
              "      <td>0.790738</td>\n",
              "      <td>0.976516</td>\n",
              "      <td>0.038170</td>\n",
              "      <td>0.003635</td>\n",
              "      <td>0.666096</td>\n",
              "      <td>0.625473</td>\n",
              "      <td>0.155784</td>\n",
              "      <td>1.000000</td>\n",
              "      <td>-0.168094</td>\n",
              "      <td>0.142756</td>\n",
              "    </tr>\n",
              "    <tr>\n",
              "      <th>congestion_surcharge</th>\n",
              "      <td>0.006838</td>\n",
              "      <td>-0.229972</td>\n",
              "      <td>-0.234831</td>\n",
              "      <td>0.156455</td>\n",
              "      <td>0.448299</td>\n",
              "      <td>-0.046400</td>\n",
              "      <td>-0.122604</td>\n",
              "      <td>0.410794</td>\n",
              "      <td>-0.168094</td>\n",
              "      <td>1.000000</td>\n",
              "      <td>-0.029739</td>\n",
              "    </tr>\n",
              "    <tr>\n",
              "      <th>trip_time</th>\n",
              "      <td>0.015869</td>\n",
              "      <td>0.133022</td>\n",
              "      <td>0.147048</td>\n",
              "      <td>-0.018851</td>\n",
              "      <td>0.002279</td>\n",
              "      <td>0.071457</td>\n",
              "      <td>0.077032</td>\n",
              "      <td>0.007742</td>\n",
              "      <td>0.142756</td>\n",
              "      <td>-0.029739</td>\n",
              "      <td>1.000000</td>\n",
              "    </tr>\n",
              "  </tbody>\n",
              "</table>\n",
              "</div>\n",
              "      <button class=\"colab-df-convert\" onclick=\"convertToInteractive('df-16f31e1f-96d8-4622-bb24-c961d79e6f19')\"\n",
              "              title=\"Convert this dataframe to an interactive table.\"\n",
              "              style=\"display:none;\">\n",
              "        \n",
              "  <svg xmlns=\"http://www.w3.org/2000/svg\" height=\"24px\"viewBox=\"0 0 24 24\"\n",
              "       width=\"24px\">\n",
              "    <path d=\"M0 0h24v24H0V0z\" fill=\"none\"/>\n",
              "    <path d=\"M18.56 5.44l.94 2.06.94-2.06 2.06-.94-2.06-.94-.94-2.06-.94 2.06-2.06.94zm-11 1L8.5 8.5l.94-2.06 2.06-.94-2.06-.94L8.5 2.5l-.94 2.06-2.06.94zm10 10l.94 2.06.94-2.06 2.06-.94-2.06-.94-.94-2.06-.94 2.06-2.06.94z\"/><path d=\"M17.41 7.96l-1.37-1.37c-.4-.4-.92-.59-1.43-.59-.52 0-1.04.2-1.43.59L10.3 9.45l-7.72 7.72c-.78.78-.78 2.05 0 2.83L4 21.41c.39.39.9.59 1.41.59.51 0 1.02-.2 1.41-.59l7.78-7.78 2.81-2.81c.8-.78.8-2.07 0-2.86zM5.41 20L4 18.59l7.72-7.72 1.47 1.35L5.41 20z\"/>\n",
              "  </svg>\n",
              "      </button>\n",
              "      \n",
              "  <style>\n",
              "    .colab-df-container {\n",
              "      display:flex;\n",
              "      flex-wrap:wrap;\n",
              "      gap: 12px;\n",
              "    }\n",
              "\n",
              "    .colab-df-convert {\n",
              "      background-color: #E8F0FE;\n",
              "      border: none;\n",
              "      border-radius: 50%;\n",
              "      cursor: pointer;\n",
              "      display: none;\n",
              "      fill: #1967D2;\n",
              "      height: 32px;\n",
              "      padding: 0 0 0 0;\n",
              "      width: 32px;\n",
              "    }\n",
              "\n",
              "    .colab-df-convert:hover {\n",
              "      background-color: #E2EBFA;\n",
              "      box-shadow: 0px 1px 2px rgba(60, 64, 67, 0.3), 0px 1px 3px 1px rgba(60, 64, 67, 0.15);\n",
              "      fill: #174EA6;\n",
              "    }\n",
              "\n",
              "    [theme=dark] .colab-df-convert {\n",
              "      background-color: #3B4455;\n",
              "      fill: #D2E3FC;\n",
              "    }\n",
              "\n",
              "    [theme=dark] .colab-df-convert:hover {\n",
              "      background-color: #434B5C;\n",
              "      box-shadow: 0px 1px 3px 1px rgba(0, 0, 0, 0.15);\n",
              "      filter: drop-shadow(0px 1px 2px rgba(0, 0, 0, 0.3));\n",
              "      fill: #FFFFFF;\n",
              "    }\n",
              "  </style>\n",
              "\n",
              "      <script>\n",
              "        const buttonEl =\n",
              "          document.querySelector('#df-16f31e1f-96d8-4622-bb24-c961d79e6f19 button.colab-df-convert');\n",
              "        buttonEl.style.display =\n",
              "          google.colab.kernel.accessAllowed ? 'block' : 'none';\n",
              "\n",
              "        async function convertToInteractive(key) {\n",
              "          const element = document.querySelector('#df-16f31e1f-96d8-4622-bb24-c961d79e6f19');\n",
              "          const dataTable =\n",
              "            await google.colab.kernel.invokeFunction('convertToInteractive',\n",
              "                                                     [key], {});\n",
              "          if (!dataTable) return;\n",
              "\n",
              "          const docLinkHtml = 'Like what you see? Visit the ' +\n",
              "            '<a target=\"_blank\" href=https://colab.research.google.com/notebooks/data_table.ipynb>data table notebook</a>'\n",
              "            + ' to learn more about interactive tables.';\n",
              "          element.innerHTML = '';\n",
              "          dataTable['output_type'] = 'display_data';\n",
              "          await google.colab.output.renderOutput(dataTable, element);\n",
              "          const docLink = document.createElement('div');\n",
              "          docLink.innerHTML = docLinkHtml;\n",
              "          element.appendChild(docLink);\n",
              "        }\n",
              "      </script>\n",
              "    </div>\n",
              "  </div>\n",
              "  "
            ],
            "text/plain": [
              "                       passenger_count  trip_distance  fare_amount     extra  \\\n",
              "passenger_count               1.000000       0.024004     0.023491 -0.118490   \n",
              "trip_distance                 0.024004       1.000000     0.790008  0.017983   \n",
              "fare_amount                   0.023491       0.790008     1.000000  0.011676   \n",
              "extra                        -0.118490       0.017983     0.011676  1.000000   \n",
              "mta_tax                       0.003134      -0.028540    -0.018444  0.091154   \n",
              "tip_amount                    0.007878       0.464515     0.526044  0.025618   \n",
              "tolls_amount                  0.016201       0.499659     0.532785  0.018121   \n",
              "improvement_surcharge         0.004730       0.023071     0.137138  0.080687   \n",
              "total_amount                  0.023385       0.790738     0.976516  0.038170   \n",
              "congestion_surcharge          0.006838      -0.229972    -0.234831  0.156455   \n",
              "trip_time                     0.015869       0.133022     0.147048 -0.018851   \n",
              "\n",
              "                        mta_tax  tip_amount  tolls_amount  \\\n",
              "passenger_count        0.003134    0.007878      0.016201   \n",
              "trip_distance         -0.028540    0.464515      0.499659   \n",
              "fare_amount           -0.018444    0.526044      0.532785   \n",
              "extra                  0.091154    0.025618      0.018121   \n",
              "mta_tax                1.000000   -0.019285     -0.090908   \n",
              "tip_amount            -0.019285    1.000000      0.368581   \n",
              "tolls_amount          -0.090908    0.368581      1.000000   \n",
              "improvement_surcharge  0.863824    0.057826      0.021002   \n",
              "total_amount           0.003635    0.666096      0.625473   \n",
              "congestion_surcharge   0.448299   -0.046400     -0.122604   \n",
              "trip_time              0.002279    0.071457      0.077032   \n",
              "\n",
              "                       improvement_surcharge  total_amount  \\\n",
              "passenger_count                     0.004730      0.023385   \n",
              "trip_distance                       0.023071      0.790738   \n",
              "fare_amount                         0.137138      0.976516   \n",
              "extra                               0.080687      0.038170   \n",
              "mta_tax                             0.863824      0.003635   \n",
              "tip_amount                          0.057826      0.666096   \n",
              "tolls_amount                        0.021002      0.625473   \n",
              "improvement_surcharge               1.000000      0.155784   \n",
              "total_amount                        0.155784      1.000000   \n",
              "congestion_surcharge                0.410794     -0.168094   \n",
              "trip_time                           0.007742      0.142756   \n",
              "\n",
              "                       congestion_surcharge  trip_time  \n",
              "passenger_count                    0.006838   0.015869  \n",
              "trip_distance                     -0.229972   0.133022  \n",
              "fare_amount                       -0.234831   0.147048  \n",
              "extra                              0.156455  -0.018851  \n",
              "mta_tax                            0.448299   0.002279  \n",
              "tip_amount                        -0.046400   0.071457  \n",
              "tolls_amount                      -0.122604   0.077032  \n",
              "improvement_surcharge              0.410794   0.007742  \n",
              "total_amount                      -0.168094   0.142756  \n",
              "congestion_surcharge               1.000000  -0.029739  \n",
              "trip_time                         -0.029739   1.000000  "
            ]
          },
          "execution_count": 58,
          "metadata": {},
          "output_type": "execute_result"
        }
      ],
      "source": [
        "numericcols.corr()"
      ]
    },
    {
      "cell_type": "code",
      "execution_count": null,
      "metadata": {
        "colab": {
          "base_uri": "https://localhost:8080/",
          "height": 724
        },
        "id": "Es63IYM5mrcy",
        "outputId": "7aa7fee7-ae80-4313-e2d4-565eb7b7df2c"
      },
      "outputs": [
        {
          "data": {
            "text/plain": [
              "<AxesSubplot:>"
            ]
          },
          "execution_count": 60,
          "metadata": {},
          "output_type": "execute_result"
        },
        {
          "data": {
            "image/png": "[encoded data removed]",
            "text/plain": [
              "<Figure size 1080x720 with 2 Axes>"
            ]
          },
          "metadata": {
            "needs_background": "light"
          },
          "output_type": "display_data"
        }
      ],
      "source": [
        "plt.figure(figsize=(15,10))\n",
        "sns.heatmap(numericcols.corr(),annot=True)\n",
        "# There is a multi collinearity between total amount and fare amount."
      ]
    },
    {
      "cell_type": "code",
      "execution_count": null,
      "metadata": {
        "colab": {
          "base_uri": "https://localhost:8080/"
        },
        "id": "AyhVaLnlnKM6",
        "outputId": "c035e629-b92b-4eee-fd35-5bb693c31201"
      },
      "outputs": [
        {
          "data": {
            "text/plain": [
              "ismonthstart\n",
              "False    8.301922\n",
              "True     7.782274\n",
              "Name: tip_amount, dtype: float64"
            ]
          },
          "execution_count": 66,
          "metadata": {},
          "output_type": "execute_result"
        }
      ],
      "source": [
        "# Test Null Avg tip_amount for ismonthstart True/False is equal\n",
        "yellowtaxi_dropna.tip_amount.groupby(yellowtaxi_dropna.ismonthstart).var()"
      ]
    },
    {
      "cell_type": "code",
      "execution_count": null,
      "metadata": {
        "id": "aKtFwNaWosOG"
      },
      "outputs": [],
      "source": [
        "monthstart=yellowtaxi_dropna[yellowtaxi_dropna.ismonthstart==True]\n",
        "notmonthstart=yellowtaxi_dropna[yellowtaxi_dropna.ismonthstart==False]"
      ]
    },
    {
      "cell_type": "code",
      "execution_count": null,
      "metadata": {
        "colab": {
          "base_uri": "https://localhost:8080/"
        },
        "id": "DgAHYqlhpHKL",
        "outputId": "5e83f07f-3fb7-4615-9dd6-ad4a17e987d7"
      },
      "outputs": [
        {
          "name": "stdout",
          "output_type": "stream",
          "text": [
            "(89751, 25)\n",
            "(2601108, 25)\n"
          ]
        }
      ],
      "source": [
        "print(monthstart.shape)\n",
        "print(notmonthstart.shape)"
      ]
    },
    {
      "cell_type": "code",
      "execution_count": null,
      "metadata": {
        "id": "nJolzd4EpRBl"
      },
      "outputs": [],
      "source": [
        "from scipy.stats import ttest_ind"
      ]
    },
    {
      "cell_type": "code",
      "execution_count": null,
      "metadata": {
        "colab": {
          "base_uri": "https://localhost:8080/"
        },
        "id": "kCx97P6jpiBs",
        "outputId": "2ca50a0d-691c-48e8-f35a-bfc65f3564ca"
      },
      "outputs": [
        {
          "data": {
            "text/plain": [
              "Ttest_indResult(statistic=1.47021802822982, pvalue=0.14150597470987603)"
            ]
          },
          "execution_count": 65,
          "metadata": {},
          "output_type": "execute_result"
        }
      ],
      "source": [
        "ttest_ind(monthstart.tip_amount,notmonthstart.tip_amount,equal_var=False)"
      ]
    },
    {
      "cell_type": "code",
      "execution_count": null,
      "metadata": {
        "colab": {
          "base_uri": "https://localhost:8080/"
        },
        "id": "WjQOchpXpwKI",
        "outputId": "3b2a37fb-2975-4953-b6ee-a16011812e95"
      },
      "outputs": [
        {
          "data": {
            "text/plain": [
              "ismonthstart\n",
              "False    19.268514\n",
              "True     19.296652\n",
              "Name: total_amount, dtype: float64"
            ]
          },
          "execution_count": 67,
          "metadata": {},
          "output_type": "execute_result"
        }
      ],
      "source": [
        "yellowtaxi_dropna.total_amount.groupby(yellowtaxi_dropna.ismonthstart).mean()"
      ]
    },
    {
      "cell_type": "code",
      "execution_count": null,
      "metadata": {
        "colab": {
          "base_uri": "https://localhost:8080/"
        },
        "id": "njEa8N54qO5U",
        "outputId": "8daf256a-c6dc-41be-d648-141b4aea1a19"
      },
      "outputs": [
        {
          "data": {
            "text/plain": [
              "ismonthstart\n",
              "False    234.502360\n",
              "True     227.803276\n",
              "Name: total_amount, dtype: float64"
            ]
          },
          "execution_count": 68,
          "metadata": {},
          "output_type": "execute_result"
        }
      ],
      "source": [
        "yellowtaxi_dropna.total_amount.groupby(yellowtaxi_dropna.ismonthstart).var()"
      ]
    },
    {
      "cell_type": "code",
      "execution_count": null,
      "metadata": {
        "colab": {
          "base_uri": "https://localhost:8080/"
        },
        "id": "77xPjfvKqR85",
        "outputId": "d30d5b7f-ec89-43fe-ef63-4e30f7d6f344"
      },
      "outputs": [
        {
          "data": {
            "text/plain": [
              "Ttest_indResult(statistic=0.5488530558451898, pvalue=0.5831075698291752)"
            ]
          },
          "execution_count": 71,
          "metadata": {},
          "output_type": "execute_result"
        }
      ],
      "source": [
        "ttest_ind(monthstart.total_amount,notmonthstart.total_amount,equal_var=False)"
      ]
    },
    {
      "cell_type": "code",
      "execution_count": null,
      "metadata": {
        "colab": {
          "base_uri": "https://localhost:8080/"
        },
        "id": "H7mFMSCjrTdW",
        "outputId": "a9523163-1c75-42db-e602-e75025193cb3"
      },
      "outputs": [
        {
          "data": {
            "text/plain": [
              "1.0    1926214\n",
              "2.0     415040\n",
              "3.0     116369\n",
              "5.0      71753\n",
              "0.0      66750\n",
              "4.0      50645\n",
              "6.0      44072\n",
              "7.0          6\n",
              "9.0          6\n",
              "8.0          4\n",
              "Name: passenger_count, dtype: int64"
            ]
          },
          "execution_count": 72,
          "metadata": {},
          "output_type": "execute_result"
        }
      ],
      "source": [
        "yellowtaxi_dropna.passenger_count.value_counts()"
      ]
    },
    {
      "cell_type": "code",
      "execution_count": null,
      "metadata": {
        "colab": {
          "base_uri": "https://localhost:8080/",
          "height": 187
        },
        "id": "7vU1LEjHrTFL",
        "outputId": "b2b1165c-4907-43ac-fca4-8cbf3ce57fcd"
      },
      "outputs": [
        {
          "data": {
            "text/html": [
              "\n",
              "  <div id=\"df-01a3b16d-17c8-44bb-9a98-5039aace587f\">\n",
              "    <div class=\"colab-df-container\">\n",
              "      <div>\n",
              "<style scoped>\n",
              "    .dataframe tbody tr th:only-of-type {\n",
              "        vertical-align: middle;\n",
              "    }\n",
              "\n",
              "    .dataframe tbody tr th {\n",
              "        vertical-align: top;\n",
              "    }\n",
              "\n",
              "    .dataframe thead th {\n",
              "        text-align: right;\n",
              "    }\n",
              "</style>\n",
              "<table border=\"1\" class=\"dataframe\">\n",
              "  <thead>\n",
              "    <tr style=\"text-align: right;\">\n",
              "      <th></th>\n",
              "      <th>passenger_count</th>\n",
              "      <th>trip_distance</th>\n",
              "      <th>fare_amount</th>\n",
              "      <th>extra</th>\n",
              "      <th>mta_tax</th>\n",
              "      <th>tip_amount</th>\n",
              "      <th>tolls_amount</th>\n",
              "      <th>improvement_surcharge</th>\n",
              "      <th>total_amount</th>\n",
              "      <th>congestion_surcharge</th>\n",
              "      <th>trip_time</th>\n",
              "    </tr>\n",
              "  </thead>\n",
              "  <tbody>\n",
              "    <tr>\n",
              "      <th>0</th>\n",
              "      <td>1.0</td>\n",
              "      <td>0.8</td>\n",
              "      <td>5.0</td>\n",
              "      <td>3.0</td>\n",
              "      <td>0.5</td>\n",
              "      <td>0.0</td>\n",
              "      <td>0.0</td>\n",
              "      <td>0.3</td>\n",
              "      <td>8.8</td>\n",
              "      <td>2.5</td>\n",
              "      <td>4.233333</td>\n",
              "    </tr>\n",
              "    <tr>\n",
              "      <th>1</th>\n",
              "      <td>1.0</td>\n",
              "      <td>0.9</td>\n",
              "      <td>5.0</td>\n",
              "      <td>3.0</td>\n",
              "      <td>0.5</td>\n",
              "      <td>0.0</td>\n",
              "      <td>0.0</td>\n",
              "      <td>0.3</td>\n",
              "      <td>8.8</td>\n",
              "      <td>2.5</td>\n",
              "      <td>3.316667</td>\n",
              "    </tr>\n",
              "    <tr>\n",
              "      <th>2</th>\n",
              "      <td>1.0</td>\n",
              "      <td>2.8</td>\n",
              "      <td>10.0</td>\n",
              "      <td>3.0</td>\n",
              "      <td>0.5</td>\n",
              "      <td>0.0</td>\n",
              "      <td>0.0</td>\n",
              "      <td>0.3</td>\n",
              "      <td>13.8</td>\n",
              "      <td>2.5</td>\n",
              "      <td>6.416667</td>\n",
              "    </tr>\n",
              "  </tbody>\n",
              "</table>\n",
              "</div>\n",
              "      <button class=\"colab-df-convert\" onclick=\"convertToInteractive('df-01a3b16d-17c8-44bb-9a98-5039aace587f')\"\n",
              "              title=\"Convert this dataframe to an interactive table.\"\n",
              "              style=\"display:none;\">\n",
              "        \n",
              "  <svg xmlns=\"http://www.w3.org/2000/svg\" height=\"24px\"viewBox=\"0 0 24 24\"\n",
              "       width=\"24px\">\n",
              "    <path d=\"M0 0h24v24H0V0z\" fill=\"none\"/>\n",
              "    <path d=\"M18.56 5.44l.94 2.06.94-2.06 2.06-.94-2.06-.94-.94-2.06-.94 2.06-2.06.94zm-11 1L8.5 8.5l.94-2.06 2.06-.94-2.06-.94L8.5 2.5l-.94 2.06-2.06.94zm10 10l.94 2.06.94-2.06 2.06-.94-2.06-.94-.94-2.06-.94 2.06-2.06.94z\"/><path d=\"M17.41 7.96l-1.37-1.37c-.4-.4-.92-.59-1.43-.59-.52 0-1.04.2-1.43.59L10.3 9.45l-7.72 7.72c-.78.78-.78 2.05 0 2.83L4 21.41c.39.39.9.59 1.41.59.51 0 1.02-.2 1.41-.59l7.78-7.78 2.81-2.81c.8-.78.8-2.07 0-2.86zM5.41 20L4 18.59l7.72-7.72 1.47 1.35L5.41 20z\"/>\n",
              "  </svg>\n",
              "      </button>\n",
              "      \n",
              "  <style>\n",
              "    .colab-df-container {\n",
              "      display:flex;\n",
              "      flex-wrap:wrap;\n",
              "      gap: 12px;\n",
              "    }\n",
              "\n",
              "    .colab-df-convert {\n",
              "      background-color: #E8F0FE;\n",
              "      border: none;\n",
              "      border-radius: 50%;\n",
              "      cursor: pointer;\n",
              "      display: none;\n",
              "      fill: #1967D2;\n",
              "      height: 32px;\n",
              "      padding: 0 0 0 0;\n",
              "      width: 32px;\n",
              "    }\n",
              "\n",
              "    .colab-df-convert:hover {\n",
              "      background-color: #E2EBFA;\n",
              "      box-shadow: 0px 1px 2px rgba(60, 64, 67, 0.3), 0px 1px 3px 1px rgba(60, 64, 67, 0.15);\n",
              "      fill: #174EA6;\n",
              "    }\n",
              "\n",
              "    [theme=dark] .colab-df-convert {\n",
              "      background-color: #3B4455;\n",
              "      fill: #D2E3FC;\n",
              "    }\n",
              "\n",
              "    [theme=dark] .colab-df-convert:hover {\n",
              "      background-color: #434B5C;\n",
              "      box-shadow: 0px 1px 3px 1px rgba(0, 0, 0, 0.15);\n",
              "      filter: drop-shadow(0px 1px 2px rgba(0, 0, 0, 0.3));\n",
              "      fill: #FFFFFF;\n",
              "    }\n",
              "  </style>\n",
              "\n",
              "      <script>\n",
              "        const buttonEl =\n",
              "          document.querySelector('#df-01a3b16d-17c8-44bb-9a98-5039aace587f button.colab-df-convert');\n",
              "        buttonEl.style.display =\n",
              "          google.colab.kernel.accessAllowed ? 'block' : 'none';\n",
              "\n",
              "        async function convertToInteractive(key) {\n",
              "          const element = document.querySelector('#df-01a3b16d-17c8-44bb-9a98-5039aace587f');\n",
              "          const dataTable =\n",
              "            await google.colab.kernel.invokeFunction('convertToInteractive',\n",
              "                                                     [key], {});\n",
              "          if (!dataTable) return;\n",
              "\n",
              "          const docLinkHtml = 'Like what you see? Visit the ' +\n",
              "            '<a target=\"_blank\" href=https://colab.research.google.com/notebooks/data_table.ipynb>data table notebook</a>'\n",
              "            + ' to learn more about interactive tables.';\n",
              "          element.innerHTML = '';\n",
              "          dataTable['output_type'] = 'display_data';\n",
              "          await google.colab.output.renderOutput(dataTable, element);\n",
              "          const docLink = document.createElement('div');\n",
              "          docLink.innerHTML = docLinkHtml;\n",
              "          element.appendChild(docLink);\n",
              "        }\n",
              "      </script>\n",
              "    </div>\n",
              "  </div>\n",
              "  "
            ],
            "text/plain": [
              "   passenger_count  trip_distance  fare_amount  extra  mta_tax  tip_amount  \\\n",
              "0              1.0            0.8          5.0    3.0      0.5         0.0   \n",
              "1              1.0            0.9          5.0    3.0      0.5         0.0   \n",
              "2              1.0            2.8         10.0    3.0      0.5         0.0   \n",
              "\n",
              "   tolls_amount  improvement_surcharge  total_amount  congestion_surcharge  \\\n",
              "0           0.0                    0.3           8.8                   2.5   \n",
              "1           0.0                    0.3           8.8                   2.5   \n",
              "2           0.0                    0.3          13.8                   2.5   \n",
              "\n",
              "   trip_time  \n",
              "0   4.233333  \n",
              "1   3.316667  \n",
              "2   6.416667  "
            ]
          },
          "execution_count": 73,
          "metadata": {},
          "output_type": "execute_result"
        }
      ],
      "source": [
        "numericcols.head(3)"
      ]
    },
    {
      "cell_type": "code",
      "execution_count": null,
      "metadata": {
        "colab": {
          "base_uri": "https://localhost:8080/",
          "height": 364
        },
        "id": "am2-loGErSx2",
        "outputId": "61d332de-208a-427e-8165-fcae5ed42eeb"
      },
      "outputs": [
        {
          "data": {
            "text/html": [
              "\n",
              "  <div id=\"df-767dc3a5-bc07-4b5c-86c9-5d9dd2546995\">\n",
              "    <div class=\"colab-df-container\">\n",
              "      <div>\n",
              "<style scoped>\n",
              "    .dataframe tbody tr th:only-of-type {\n",
              "        vertical-align: middle;\n",
              "    }\n",
              "\n",
              "    .dataframe tbody tr th {\n",
              "        vertical-align: top;\n",
              "    }\n",
              "\n",
              "    .dataframe thead th {\n",
              "        text-align: right;\n",
              "    }\n",
              "</style>\n",
              "<table border=\"1\" class=\"dataframe\">\n",
              "  <thead>\n",
              "    <tr style=\"text-align: right;\">\n",
              "      <th></th>\n",
              "      <th>passenger_count</th>\n",
              "      <th>trip_distance</th>\n",
              "      <th>fare_amount</th>\n",
              "      <th>extra</th>\n",
              "      <th>mta_tax</th>\n",
              "      <th>tip_amount</th>\n",
              "      <th>tolls_amount</th>\n",
              "      <th>improvement_surcharge</th>\n",
              "      <th>total_amount</th>\n",
              "      <th>congestion_surcharge</th>\n",
              "      <th>trip_time</th>\n",
              "    </tr>\n",
              "  </thead>\n",
              "  <tbody>\n",
              "    <tr>\n",
              "      <th>count</th>\n",
              "      <td>2690859.00</td>\n",
              "      <td>2690859.00</td>\n",
              "      <td>2690859.00</td>\n",
              "      <td>2690859.00</td>\n",
              "      <td>2690859.00</td>\n",
              "      <td>2690859.00</td>\n",
              "      <td>2690859.00</td>\n",
              "      <td>2690859.00</td>\n",
              "      <td>2690859.00</td>\n",
              "      <td>2690859.00</td>\n",
              "      <td>2690859.00</td>\n",
              "    </tr>\n",
              "    <tr>\n",
              "      <th>mean</th>\n",
              "      <td>1.46</td>\n",
              "      <td>3.20</td>\n",
              "      <td>13.06</td>\n",
              "      <td>1.05</td>\n",
              "      <td>0.49</td>\n",
              "      <td>2.35</td>\n",
              "      <td>0.38</td>\n",
              "      <td>0.30</td>\n",
              "      <td>19.27</td>\n",
              "      <td>2.28</td>\n",
              "      <td>16.31</td>\n",
              "    </tr>\n",
              "    <tr>\n",
              "      <th>std</th>\n",
              "      <td>1.07</td>\n",
              "      <td>4.54</td>\n",
              "      <td>12.41</td>\n",
              "      <td>1.24</td>\n",
              "      <td>0.08</td>\n",
              "      <td>2.88</td>\n",
              "      <td>1.85</td>\n",
              "      <td>0.04</td>\n",
              "      <td>15.31</td>\n",
              "      <td>0.74</td>\n",
              "      <td>63.66</td>\n",
              "    </tr>\n",
              "    <tr>\n",
              "      <th>min</th>\n",
              "      <td>0.00</td>\n",
              "      <td>0.00</td>\n",
              "      <td>-550.00</td>\n",
              "      <td>-4.50</td>\n",
              "      <td>-0.50</td>\n",
              "      <td>-91.66</td>\n",
              "      <td>-33.75</td>\n",
              "      <td>-0.30</td>\n",
              "      <td>-554.05</td>\n",
              "      <td>-2.50</td>\n",
              "      <td>-2325.40</td>\n",
              "    </tr>\n",
              "    <tr>\n",
              "      <th>25%</th>\n",
              "      <td>1.00</td>\n",
              "      <td>1.10</td>\n",
              "      <td>6.50</td>\n",
              "      <td>0.00</td>\n",
              "      <td>0.50</td>\n",
              "      <td>0.00</td>\n",
              "      <td>0.00</td>\n",
              "      <td>0.30</td>\n",
              "      <td>11.63</td>\n",
              "      <td>2.50</td>\n",
              "      <td>6.55</td>\n",
              "    </tr>\n",
              "    <tr>\n",
              "      <th>50%</th>\n",
              "      <td>1.00</td>\n",
              "      <td>1.82</td>\n",
              "      <td>9.50</td>\n",
              "      <td>0.50</td>\n",
              "      <td>0.50</td>\n",
              "      <td>2.00</td>\n",
              "      <td>0.00</td>\n",
              "      <td>0.30</td>\n",
              "      <td>14.76</td>\n",
              "      <td>2.50</td>\n",
              "      <td>10.63</td>\n",
              "    </tr>\n",
              "    <tr>\n",
              "      <th>75%</th>\n",
              "      <td>2.00</td>\n",
              "      <td>3.29</td>\n",
              "      <td>14.50</td>\n",
              "      <td>2.50</td>\n",
              "      <td>0.50</td>\n",
              "      <td>3.00</td>\n",
              "      <td>0.00</td>\n",
              "      <td>0.30</td>\n",
              "      <td>20.47</td>\n",
              "      <td>2.50</td>\n",
              "      <td>16.93</td>\n",
              "    </tr>\n",
              "    <tr>\n",
              "      <th>max</th>\n",
              "      <td>9.00</td>\n",
              "      <td>875.70</td>\n",
              "      <td>1320.00</td>\n",
              "      <td>36.10</td>\n",
              "      <td>4.55</td>\n",
              "      <td>400.00</td>\n",
              "      <td>956.55</td>\n",
              "      <td>0.30</td>\n",
              "      <td>1320.80</td>\n",
              "      <td>2.50</td>\n",
              "      <td>3018.62</td>\n",
              "    </tr>\n",
              "  </tbody>\n",
              "</table>\n",
              "</div>\n",
              "      <button class=\"colab-df-convert\" onclick=\"convertToInteractive('df-767dc3a5-bc07-4b5c-86c9-5d9dd2546995')\"\n",
              "              title=\"Convert this dataframe to an interactive table.\"\n",
              "              style=\"display:none;\">\n",
              "        \n",
              "  <svg xmlns=\"http://www.w3.org/2000/svg\" height=\"24px\"viewBox=\"0 0 24 24\"\n",
              "       width=\"24px\">\n",
              "    <path d=\"M0 0h24v24H0V0z\" fill=\"none\"/>\n",
              "    <path d=\"M18.56 5.44l.94 2.06.94-2.06 2.06-.94-2.06-.94-.94-2.06-.94 2.06-2.06.94zm-11 1L8.5 8.5l.94-2.06 2.06-.94-2.06-.94L8.5 2.5l-.94 2.06-2.06.94zm10 10l.94 2.06.94-2.06 2.06-.94-2.06-.94-.94-2.06-.94 2.06-2.06.94z\"/><path d=\"M17.41 7.96l-1.37-1.37c-.4-.4-.92-.59-1.43-.59-.52 0-1.04.2-1.43.59L10.3 9.45l-7.72 7.72c-.78.78-.78 2.05 0 2.83L4 21.41c.39.39.9.59 1.41.59.51 0 1.02-.2 1.41-.59l7.78-7.78 2.81-2.81c.8-.78.8-2.07 0-2.86zM5.41 20L4 18.59l7.72-7.72 1.47 1.35L5.41 20z\"/>\n",
              "  </svg>\n",
              "      </button>\n",
              "      \n",
              "  <style>\n",
              "    .colab-df-container {\n",
              "      display:flex;\n",
              "      flex-wrap:wrap;\n",
              "      gap: 12px;\n",
              "    }\n",
              "\n",
              "    .colab-df-convert {\n",
              "      background-color: #E8F0FE;\n",
              "      border: none;\n",
              "      border-radius: 50%;\n",
              "      cursor: pointer;\n",
              "      display: none;\n",
              "      fill: #1967D2;\n",
              "      height: 32px;\n",
              "      padding: 0 0 0 0;\n",
              "      width: 32px;\n",
              "    }\n",
              "\n",
              "    .colab-df-convert:hover {\n",
              "      background-color: #E2EBFA;\n",
              "      box-shadow: 0px 1px 2px rgba(60, 64, 67, 0.3), 0px 1px 3px 1px rgba(60, 64, 67, 0.15);\n",
              "      fill: #174EA6;\n",
              "    }\n",
              "\n",
              "    [theme=dark] .colab-df-convert {\n",
              "      background-color: #3B4455;\n",
              "      fill: #D2E3FC;\n",
              "    }\n",
              "\n",
              "    [theme=dark] .colab-df-convert:hover {\n",
              "      background-color: #434B5C;\n",
              "      box-shadow: 0px 1px 3px 1px rgba(0, 0, 0, 0.15);\n",
              "      filter: drop-shadow(0px 1px 2px rgba(0, 0, 0, 0.3));\n",
              "      fill: #FFFFFF;\n",
              "    }\n",
              "  </style>\n",
              "\n",
              "      <script>\n",
              "        const buttonEl =\n",
              "          document.querySelector('#df-767dc3a5-bc07-4b5c-86c9-5d9dd2546995 button.colab-df-convert');\n",
              "        buttonEl.style.display =\n",
              "          google.colab.kernel.accessAllowed ? 'block' : 'none';\n",
              "\n",
              "        async function convertToInteractive(key) {\n",
              "          const element = document.querySelector('#df-767dc3a5-bc07-4b5c-86c9-5d9dd2546995');\n",
              "          const dataTable =\n",
              "            await google.colab.kernel.invokeFunction('convertToInteractive',\n",
              "                                                     [key], {});\n",
              "          if (!dataTable) return;\n",
              "\n",
              "          const docLinkHtml = 'Like what you see? Visit the ' +\n",
              "            '<a target=\"_blank\" href=https://colab.research.google.com/notebooks/data_table.ipynb>data table notebook</a>'\n",
              "            + ' to learn more about interactive tables.';\n",
              "          element.innerHTML = '';\n",
              "          dataTable['output_type'] = 'display_data';\n",
              "          await google.colab.output.renderOutput(dataTable, element);\n",
              "          const docLink = document.createElement('div');\n",
              "          docLink.innerHTML = docLinkHtml;\n",
              "          element.appendChild(docLink);\n",
              "        }\n",
              "      </script>\n",
              "    </div>\n",
              "  </div>\n",
              "  "
            ],
            "text/plain": [
              "       passenger_count  trip_distance  fare_amount       extra     mta_tax  \\\n",
              "count       2690859.00     2690859.00   2690859.00  2690859.00  2690859.00   \n",
              "mean              1.46           3.20        13.06        1.05        0.49   \n",
              "std               1.07           4.54        12.41        1.24        0.08   \n",
              "min               0.00           0.00      -550.00       -4.50       -0.50   \n",
              "25%               1.00           1.10         6.50        0.00        0.50   \n",
              "50%               1.00           1.82         9.50        0.50        0.50   \n",
              "75%               2.00           3.29        14.50        2.50        0.50   \n",
              "max               9.00         875.70      1320.00       36.10        4.55   \n",
              "\n",
              "       tip_amount  tolls_amount  improvement_surcharge  total_amount  \\\n",
              "count  2690859.00    2690859.00             2690859.00    2690859.00   \n",
              "mean         2.35          0.38                   0.30         19.27   \n",
              "std          2.88          1.85                   0.04         15.31   \n",
              "min        -91.66        -33.75                  -0.30       -554.05   \n",
              "25%          0.00          0.00                   0.30         11.63   \n",
              "50%          2.00          0.00                   0.30         14.76   \n",
              "75%          3.00          0.00                   0.30         20.47   \n",
              "max        400.00        956.55                   0.30       1320.80   \n",
              "\n",
              "       congestion_surcharge   trip_time  \n",
              "count            2690859.00  2690859.00  \n",
              "mean                   2.28       16.31  \n",
              "std                    0.74       63.66  \n",
              "min                   -2.50    -2325.40  \n",
              "25%                    2.50        6.55  \n",
              "50%                    2.50       10.63  \n",
              "75%                    2.50       16.93  \n",
              "max                    2.50     3018.62  "
            ]
          },
          "execution_count": 74,
          "metadata": {},
          "output_type": "execute_result"
        }
      ],
      "source": [
        "np.round(numericcols.describe(),2)"
      ]
    },
    {
      "cell_type": "code",
      "execution_count": null,
      "metadata": {
        "id": "rewJbylpqai7"
      },
      "outputs": [],
      "source": [
        "from sklearn.preprocessing import StandardScaler"
      ]
    },
    {
      "cell_type": "code",
      "execution_count": null,
      "metadata": {
        "id": "KexJwFxusf6h"
      },
      "outputs": [],
      "source": [
        "scaler=StandardScaler()"
      ]
    },
    {
      "cell_type": "code",
      "execution_count": null,
      "metadata": {
        "id": "GqTSBW-Tsq5L"
      },
      "outputs": [],
      "source": [
        "numeric_scaled=scaler.fit_transform(numericcols)"
      ]
    },
    {
      "cell_type": "code",
      "execution_count": null,
      "metadata": {
        "id": "4LuE4Qnqsx3P"
      },
      "outputs": [],
      "source": [
        "numeric_scaled=pd.DataFrame(numeric_scaled,columns=numericcols.columns)"
      ]
    },
    {
      "cell_type": "code",
      "execution_count": null,
      "metadata": {
        "colab": {
          "base_uri": "https://localhost:8080/",
          "height": 724
        },
        "id": "csGs1WA3tBeJ",
        "outputId": "6d0e8141-3826-4773-928b-a7e129f28219"
      },
      "outputs": [
        {
          "data": {
            "text/plain": [
              "<AxesSubplot:>"
            ]
          },
          "execution_count": 82,
          "metadata": {},
          "output_type": "execute_result"
        },
        {
          "data": {
            "image/png": "[encoded data removed]",
            "text/plain": [
              "<Figure size 1080x720 with 2 Axes>"
            ]
          },
          "metadata": {
            "needs_background": "light"
          },
          "output_type": "display_data"
        }
      ],
      "source": [
        "plt.figure(figsize=(15,10))\n",
        "sns.heatmap(numeric_scaled.corr(),annot=True)"
      ]
    },
    {
      "cell_type": "code",
      "execution_count": null,
      "metadata": {
        "colab": {
          "base_uri": "https://localhost:8080/"
        },
        "id": "B34os6IHtJoZ",
        "outputId": "1535689a-e58b-458c-da97-c44c381734f9"
      },
      "outputs": [
        {
          "data": {
            "text/plain": [
              "Index(['VendorID', 'tpep_pickup_datetime', 'tpep_dropoff_datetime',\n",
              "       'passenger_count', 'trip_distance', 'RatecodeID', 'store_and_fwd_flag',\n",
              "       'PULocationID', 'DOLocationID', 'payment_type', 'fare_amount', 'extra',\n",
              "       'mta_tax', 'tip_amount', 'tolls_amount', 'improvement_surcharge',\n",
              "       'total_amount', 'congestion_surcharge', 'trip_time', 'hourofday',\n",
              "       'weekday', 'weeknumber', 'dayofmonth', 'ismonthstart', 'ismonthend'],\n",
              "      dtype='object')"
            ]
          },
          "execution_count": 83,
          "metadata": {},
          "output_type": "execute_result"
        }
      ],
      "source": [
        "yellowtaxi_dropna.columns"
      ]
    },
    {
      "cell_type": "code",
      "execution_count": null,
      "metadata": {
        "id": "GuF_scyeuz5o"
      },
      "outputs": [],
      "source": [
        "categoriccols=yellowtaxi_dropna[['payment_type','hourofday',\n",
        "       'weekday', 'weeknumber', 'dayofmonth', 'ismonthstart', 'ismonthend','VendorID','RatecodeID','store_and_fwd_flag']]"
      ]
    },
    {
      "cell_type": "code",
      "execution_count": null,
      "metadata": {
        "id": "fkZR3jgPvkHW"
      },
      "outputs": [],
      "source": [
        "from sklearn.preprocessing import LabelEncoder"
      ]
    },
    {
      "cell_type": "code",
      "execution_count": null,
      "metadata": {
        "id": "eEIYcrA7vs_r"
      },
      "outputs": [],
      "source": [
        "le=LabelEncoder()"
      ]
    },
    {
      "cell_type": "code",
      "execution_count": null,
      "metadata": {
        "id": "qUFrlZmLvx6_"
      },
      "outputs": [],
      "source": [
        "categoriccolsdummy=categoriccols.apply(le.fit_transform)"
      ]
    },
    {
      "cell_type": "code",
      "execution_count": null,
      "metadata": {
        "id": "Kvy5V8vyv7cE"
      },
      "outputs": [],
      "source": [
        "yellowtaxi_df=pd.concat([numericcols,categoriccolsdummy],axis=1)"
      ]
    },
    {
      "cell_type": "code",
      "execution_count": null,
      "metadata": {
        "id": "yhTqpQcwwG2O"
      },
      "outputs": [],
      "source": [
        "y=yellowtaxi_df.tip_amount\n",
        "X=yellowtaxi_df.drop(['tip_amount','fare_amount'],axis=1)"
      ]
    },
    {
      "cell_type": "code",
      "execution_count": null,
      "metadata": {
        "id": "EeB9OeOrwadk"
      },
      "outputs": [],
      "source": [
        "from sklearn.linear_model import LinearRegression"
      ]
    },
    {
      "cell_type": "code",
      "execution_count": null,
      "metadata": {
        "id": "sKIJFhXYwtMM"
      },
      "outputs": [],
      "source": [
        "reg = LinearRegression().fit(X, y)"
      ]
    },
    {
      "cell_type": "code",
      "execution_count": null,
      "metadata": {
        "colab": {
          "base_uri": "https://localhost:8080/"
        },
        "id": "CXxRQCBawxdW",
        "outputId": "1f490bb7-728f-4ae3-e562-6b7486a90d04"
      },
      "outputs": [
        {
          "data": {
            "text/plain": [
              "0.5998106296381153"
            ]
          },
          "execution_count": 98,
          "metadata": {},
          "output_type": "execute_result"
        }
      ],
      "source": [
        "reg.score(X, y)"
      ]
    },
    {
      "cell_type": "code",
      "execution_count": null,
      "metadata": {
        "id": "t20nFmcHw1DZ"
      },
      "outputs": [],
      "source": [
        "from sklearn.tree import DecisionTreeRegressor"
      ]
    },
    {
      "cell_type": "code",
      "execution_count": null,
      "metadata": {
        "id": "8r8Y8qinxnrv"
      },
      "outputs": [],
      "source": [
        "tree=DecisionTreeRegressor(max_depth=12)"
      ]
    },
    {
      "cell_type": "code",
      "execution_count": null,
      "metadata": {
        "id": "H0WSgiYexqnn"
      },
      "outputs": [],
      "source": [
        "treemodel=tree.fit(X,y)"
      ]
    },
    {
      "cell_type": "code",
      "execution_count": null,
      "metadata": {
        "colab": {
          "base_uri": "https://localhost:8080/"
        },
        "id": "6cTi7VNRxukG",
        "outputId": "a840abb0-a9b3-4696-c077-49ecd6709f2b"
      },
      "outputs": [
        {
          "data": {
            "text/plain": [
              "0.9034986118553892"
            ]
          },
          "execution_count": 105,
          "metadata": {},
          "output_type": "execute_result"
        }
      ],
      "source": [
        "treemodel.score(X,y)"
      ]
    },
    {
      "cell_type": "code",
      "execution_count": null,
      "metadata": {
        "colab": {
          "base_uri": "https://localhost:8080/",
          "height": 645
        },
        "id": "w45Zqs01x4Ax",
        "outputId": "4c3ad7f1-3987-41df-9f25-5b0c1098017d"
      },
      "outputs": [
        {
          "data": {
            "text/html": [
              "\n",
              "  <div id=\"df-eb0c81fd-f260-4b62-b495-c076fa60c6e8\">\n",
              "    <div class=\"colab-df-container\">\n",
              "      <div>\n",
              "<style scoped>\n",
              "    .dataframe tbody tr th:only-of-type {\n",
              "        vertical-align: middle;\n",
              "    }\n",
              "\n",
              "    .dataframe tbody tr th {\n",
              "        vertical-align: top;\n",
              "    }\n",
              "\n",
              "    .dataframe thead th {\n",
              "        text-align: right;\n",
              "    }\n",
              "</style>\n",
              "<table border=\"1\" class=\"dataframe\">\n",
              "  <thead>\n",
              "    <tr style=\"text-align: right;\">\n",
              "      <th></th>\n",
              "      <th>index</th>\n",
              "      <th>0</th>\n",
              "    </tr>\n",
              "  </thead>\n",
              "  <tbody>\n",
              "    <tr>\n",
              "      <th>6</th>\n",
              "      <td>5.345633e-01</td>\n",
              "      <td>total_amount</td>\n",
              "    </tr>\n",
              "    <tr>\n",
              "      <th>9</th>\n",
              "      <td>2.811045e-01</td>\n",
              "      <td>payment_type</td>\n",
              "    </tr>\n",
              "    <tr>\n",
              "      <th>1</th>\n",
              "      <td>7.049044e-02</td>\n",
              "      <td>trip_distance</td>\n",
              "    </tr>\n",
              "    <tr>\n",
              "      <th>17</th>\n",
              "      <td>4.230245e-02</td>\n",
              "      <td>RatecodeID</td>\n",
              "    </tr>\n",
              "    <tr>\n",
              "      <th>8</th>\n",
              "      <td>4.111275e-02</td>\n",
              "      <td>trip_time</td>\n",
              "    </tr>\n",
              "    <tr>\n",
              "      <th>4</th>\n",
              "      <td>1.396894e-02</td>\n",
              "      <td>tolls_amount</td>\n",
              "    </tr>\n",
              "    <tr>\n",
              "      <th>7</th>\n",
              "      <td>5.567569e-03</td>\n",
              "      <td>congestion_surcharge</td>\n",
              "    </tr>\n",
              "    <tr>\n",
              "      <th>2</th>\n",
              "      <td>5.167924e-03</td>\n",
              "      <td>extra</td>\n",
              "    </tr>\n",
              "    <tr>\n",
              "      <th>11</th>\n",
              "      <td>1.462752e-03</td>\n",
              "      <td>weekday</td>\n",
              "    </tr>\n",
              "    <tr>\n",
              "      <th>0</th>\n",
              "      <td>1.194247e-03</td>\n",
              "      <td>passenger_count</td>\n",
              "    </tr>\n",
              "    <tr>\n",
              "      <th>10</th>\n",
              "      <td>9.692705e-04</td>\n",
              "      <td>hourofday</td>\n",
              "    </tr>\n",
              "    <tr>\n",
              "      <th>13</th>\n",
              "      <td>9.051053e-04</td>\n",
              "      <td>dayofmonth</td>\n",
              "    </tr>\n",
              "    <tr>\n",
              "      <th>16</th>\n",
              "      <td>5.279358e-04</td>\n",
              "      <td>VendorID</td>\n",
              "    </tr>\n",
              "    <tr>\n",
              "      <th>12</th>\n",
              "      <td>3.300201e-04</td>\n",
              "      <td>weeknumber</td>\n",
              "    </tr>\n",
              "    <tr>\n",
              "      <th>3</th>\n",
              "      <td>3.053925e-04</td>\n",
              "      <td>mta_tax</td>\n",
              "    </tr>\n",
              "    <tr>\n",
              "      <th>15</th>\n",
              "      <td>1.182579e-05</td>\n",
              "      <td>ismonthend</td>\n",
              "    </tr>\n",
              "    <tr>\n",
              "      <th>18</th>\n",
              "      <td>7.867877e-06</td>\n",
              "      <td>store_and_fwd_flag</td>\n",
              "    </tr>\n",
              "    <tr>\n",
              "      <th>5</th>\n",
              "      <td>7.694730e-06</td>\n",
              "      <td>improvement_surcharge</td>\n",
              "    </tr>\n",
              "    <tr>\n",
              "      <th>14</th>\n",
              "      <td>1.019113e-13</td>\n",
              "      <td>ismonthstart</td>\n",
              "    </tr>\n",
              "  </tbody>\n",
              "</table>\n",
              "</div>\n",
              "      <button class=\"colab-df-convert\" onclick=\"convertToInteractive('df-eb0c81fd-f260-4b62-b495-c076fa60c6e8')\"\n",
              "              title=\"Convert this dataframe to an interactive table.\"\n",
              "              style=\"display:none;\">\n",
              "        \n",
              "  <svg xmlns=\"http://www.w3.org/2000/svg\" height=\"24px\"viewBox=\"0 0 24 24\"\n",
              "       width=\"24px\">\n",
              "    <path d=\"M0 0h24v24H0V0z\" fill=\"none\"/>\n",
              "    <path d=\"M18.56 5.44l.94 2.06.94-2.06 2.06-.94-2.06-.94-.94-2.06-.94 2.06-2.06.94zm-11 1L8.5 8.5l.94-2.06 2.06-.94-2.06-.94L8.5 2.5l-.94 2.06-2.06.94zm10 10l.94 2.06.94-2.06 2.06-.94-2.06-.94-.94-2.06-.94 2.06-2.06.94z\"/><path d=\"M17.41 7.96l-1.37-1.37c-.4-.4-.92-.59-1.43-.59-.52 0-1.04.2-1.43.59L10.3 9.45l-7.72 7.72c-.78.78-.78 2.05 0 2.83L4 21.41c.39.39.9.59 1.41.59.51 0 1.02-.2 1.41-.59l7.78-7.78 2.81-2.81c.8-.78.8-2.07 0-2.86zM5.41 20L4 18.59l7.72-7.72 1.47 1.35L5.41 20z\"/>\n",
              "  </svg>\n",
              "      </button>\n",
              "      \n",
              "  <style>\n",
              "    .colab-df-container {\n",
              "      display:flex;\n",
              "      flex-wrap:wrap;\n",
              "      gap: 12px;\n",
              "    }\n",
              "\n",
              "    .colab-df-convert {\n",
              "      background-color: #E8F0FE;\n",
              "      border: none;\n",
              "      border-radius: 50%;\n",
              "      cursor: pointer;\n",
              "      display: none;\n",
              "      fill: #1967D2;\n",
              "      height: 32px;\n",
              "      padding: 0 0 0 0;\n",
              "      width: 32px;\n",
              "    }\n",
              "\n",
              "    .colab-df-convert:hover {\n",
              "      background-color: #E2EBFA;\n",
              "      box-shadow: 0px 1px 2px rgba(60, 64, 67, 0.3), 0px 1px 3px 1px rgba(60, 64, 67, 0.15);\n",
              "      fill: #174EA6;\n",
              "    }\n",
              "\n",
              "    [theme=dark] .colab-df-convert {\n",
              "      background-color: #3B4455;\n",
              "      fill: #D2E3FC;\n",
              "    }\n",
              "\n",
              "    [theme=dark] .colab-df-convert:hover {\n",
              "      background-color: #434B5C;\n",
              "      box-shadow: 0px 1px 3px 1px rgba(0, 0, 0, 0.15);\n",
              "      filter: drop-shadow(0px 1px 2px rgba(0, 0, 0, 0.3));\n",
              "      fill: #FFFFFF;\n",
              "    }\n",
              "  </style>\n",
              "\n",
              "      <script>\n",
              "        const buttonEl =\n",
              "          document.querySelector('#df-eb0c81fd-f260-4b62-b495-c076fa60c6e8 button.colab-df-convert');\n",
              "        buttonEl.style.display =\n",
              "          google.colab.kernel.accessAllowed ? 'block' : 'none';\n",
              "\n",
              "        async function convertToInteractive(key) {\n",
              "          const element = document.querySelector('#df-eb0c81fd-f260-4b62-b495-c076fa60c6e8');\n",
              "          const dataTable =\n",
              "            await google.colab.kernel.invokeFunction('convertToInteractive',\n",
              "                                                     [key], {});\n",
              "          if (!dataTable) return;\n",
              "\n",
              "          const docLinkHtml = 'Like what you see? Visit the ' +\n",
              "            '<a target=\"_blank\" href=https://colab.research.google.com/notebooks/data_table.ipynb>data table notebook</a>'\n",
              "            + ' to learn more about interactive tables.';\n",
              "          element.innerHTML = '';\n",
              "          dataTable['output_type'] = 'display_data';\n",
              "          await google.colab.output.renderOutput(dataTable, element);\n",
              "          const docLink = document.createElement('div');\n",
              "          docLink.innerHTML = docLinkHtml;\n",
              "          element.appendChild(docLink);\n",
              "        }\n",
              "      </script>\n",
              "    </div>\n",
              "  </div>\n",
              "  "
            ],
            "text/plain": [
              "           index                      0\n",
              "6   5.345633e-01           total_amount\n",
              "9   2.811045e-01           payment_type\n",
              "1   7.049044e-02          trip_distance\n",
              "17  4.230245e-02             RatecodeID\n",
              "8   4.111275e-02              trip_time\n",
              "4   1.396894e-02           tolls_amount\n",
              "7   5.567569e-03   congestion_surcharge\n",
              "2   5.167924e-03                  extra\n",
              "11  1.462752e-03                weekday\n",
              "0   1.194247e-03        passenger_count\n",
              "10  9.692705e-04              hourofday\n",
              "13  9.051053e-04             dayofmonth\n",
              "16  5.279358e-04               VendorID\n",
              "12  3.300201e-04             weeknumber\n",
              "3   3.053925e-04                mta_tax\n",
              "15  1.182579e-05             ismonthend\n",
              "18  7.867877e-06     store_and_fwd_flag\n",
              "5   7.694730e-06  improvement_surcharge\n",
              "14  1.019113e-13           ismonthstart"
            ]
          },
          "execution_count": 111,
          "metadata": {},
          "output_type": "execute_result"
        }
      ],
      "source": [
        "pd.DataFrame(X.columns,treemodel.feature_importances_).reset_index().sort_values(ascending=False,by='index')"
      ]
    },
    {
      "cell_type": "code",
      "execution_count": null,
      "metadata": {
        "id": "3QDgNhhdyS7A"
      },
      "outputs": [],
      "source": [
        ""
      ]
    }
  ],
  "metadata": {
    "colab": {
      "collapsed_sections": [],
      "name": "Yellow Taxi Tip.ipynb",
      "provenance": [],
      "toc_visible": true,
      "include_colab_link": true
    },
    "kernelspec": {
      "display_name": "Python 3 (ipykernel)",
      "language": "python",
      "name": "python3"
    },
    "language_info": {
      "codemirror_mode": {
        "name": "ipython",
        "version": 3
      },
      "file_extension": ".py",
      "mimetype": "text/x-python",
      "name": "python",
      "nbconvert_exporter": "python",
      "pygments_lexer": "ipython3",
      "version": "3.9.12"
    }
  },
  "nbformat": 4,
  "nbformat_minor": 0
}